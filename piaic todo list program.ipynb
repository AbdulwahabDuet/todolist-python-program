{
 "cells": [
  {
   "cell_type": "code",
   "execution_count": 5,
   "metadata": {},
   "outputs": [
    {
     "name": "stdout",
     "output_type": "stream",
     "text": [
      "\t \t \t \t My To Do List Program\n",
      "If You Want to Enter Objects In List Enter Y For Exit Enter N\n",
      "Enter = y\n",
      "How many words you want to add in list = \n",
      "Enter Number3\n",
      "Enter words to add in list = ku\n",
      "Enter words to add in list = iu\n",
      "Enter words to add in list = duet\n",
      "['ku', 'iu', 'duet']\n",
      "if you want to remove enter r and if you want clear all list type clearclear\n",
      "[]\n"
     ]
    }
   ],
   "source": [
    "print(\"\\t \\t \\t \\t My To Do List Program\")\n",
    "list1 = []\n",
    "print(\"If You Want to Enter Objects In List Enter Y For Exit Enter N\")\n",
    "enter_alphabet = input(\"Enter = \")\n",
    "if (enter_alphabet=='y' or enter_alphabet=='Y'):\n",
    "    print(\"How many words you want to add in list = \")\n",
    "    num=int(input(\"Enter Number\"))\n",
    "    for i in range (num):\n",
    "        words=input(\"Enter words to add in list = \")\n",
    "        list1.append(words)\n",
    "elif (enter_alphabet=='n' or enter_alphabet==N):\n",
    "    exit()\n",
    "print(list1)\n",
    "w=input(\"if you want to remove enter r and if you want clear all list type clear\").lower()\n",
    "if(w=='r'):\n",
    "    delete=input(\"enter the word for delete from list = \")\n",
    "    list1.remove(delete)\n",
    "    print(list1)    \n",
    "elif(w=='clear'):\n",
    "    list.clear(list1)\n",
    "    print(list1)\n",
    "else:\n",
    "    print(\"no change in list\")\n",
    "    print(list1)\n",
    "     "
   ]
  },
  {
   "cell_type": "code",
   "execution_count": null,
   "metadata": {},
   "outputs": [],
   "source": []
  },
  {
   "cell_type": "code",
   "execution_count": null,
   "metadata": {},
   "outputs": [],
   "source": []
  },
  {
   "cell_type": "code",
   "execution_count": null,
   "metadata": {},
   "outputs": [],
   "source": []
  },
  {
   "cell_type": "code",
   "execution_count": null,
   "metadata": {},
   "outputs": [],
   "source": []
  }
 ],
 "metadata": {
  "kernelspec": {
   "display_name": "Python 3",
   "language": "python",
   "name": "python3"
  },
  "language_info": {
   "codemirror_mode": {
    "name": "ipython",
    "version": 3
   },
   "file_extension": ".py",
   "mimetype": "text/x-python",
   "name": "python",
   "nbconvert_exporter": "python",
   "pygments_lexer": "ipython3",
   "version": "3.7.1"
  }
 },
 "nbformat": 4,
 "nbformat_minor": 2
}
